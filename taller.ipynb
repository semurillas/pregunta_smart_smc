{
 "cells": [
  {
   "cell_type": "markdown",
   "metadata": {},
   "source": [
    "# Análisis del Problema y Solución Propuesta para Mejorar el Índice SAIDI\n",
    "\n",
    "## Descripción del Problema\n",
    "\n",
    "La organización se enfrenta a un problema crítico de incumplimiento de la meta mensual establecida para el índice SAIDI (System Average Interruption Duration Index). Actualmente, los resultados muestran que el SAIDI mensual está consistentemente por encima de lo esperado, lo que indica que los clientes están experimentando interrupciones del servicio de energía que son más largas de lo que la organización se había propuesto como objetivo.\n",
    "\n",
    "## Razón para Utilizar Ciencia de Datos o Inteligencia Artificial\n",
    "\n",
    "Considero que actualmente existen herramientas tanto en el campo de la ciencia de datos como de la inteligencia artificial que pueden ayudar a resolver esta problemática desde varios puntos de vista. Uno de ellos puede ser el análisis de clústeres, que permitiría agrupar eventos de interrupción del servicio por su causa en áreas y en equipos específicos. Esto permitiría dirigir esfuerzos operativos y recursos para el mantenimiento de estos y la posterior prevención o mitigación de estos eventos.\n",
    "\n",
    "## Pregunta SMART\n",
    "\n",
    "**¿Cómo se puede reducir el valor mensual del índice SAIDI en un 15% durante los próximos 12 meses, mediante la identificación y priorización de las causas recurrentes de interrupciones del servicio eléctrico utilizando técnicas de análisis de clústeres?**\n"
   ]
  }
 ],
 "metadata": {
  "kernelspec": {
   "display_name": "Python 3",
   "language": "python",
   "name": "python3"
  },
  "language_info": {
   "codemirror_mode": {
    "name": "ipython",
    "version": 3
   },
   "file_extension": ".py",
   "mimetype": "text/x-python",
   "name": "python",
   "nbconvert_exporter": "python",
   "pygments_lexer": "ipython3",
   "version": "3.11.0"
  }
 },
 "nbformat": 4,
 "nbformat_minor": 2
}
